{
 "cells": [
  {
   "cell_type": "markdown",
   "metadata": {},
   "source": [
    "# CASE STUDY 3: Terror"
   ]
  },
  {
   "cell_type": "code",
   "execution_count": 1,
   "metadata": {
    "collapsed": true
   },
   "outputs": [],
   "source": [
    "import numpy as np\n",
    "import pandas as pd\n",
    "import os\n",
    "os.chdir('C:\\\\Users\\\\Administrator\\\\Documents\\\\Jupiter notebooks\\\\Python Assignments\\\\DataSets')"
   ]
  },
  {
   "cell_type": "code",
   "execution_count": 2,
   "metadata": {
    "collapsed": true
   },
   "outputs": [],
   "source": [
    "terror = pd.read_csv(\"terror.csv\", encoding='Latin', low_memory=False)"
   ]
  },
  {
   "cell_type": "code",
   "execution_count": 4,
   "metadata": {},
   "outputs": [
    {
     "data": {
      "text/plain": [
       "9940"
      ]
     },
     "execution_count": 4,
     "metadata": {},
     "output_type": "execute_result"
    }
   ],
   "source": [
    "# 1.How many attacks happened in India?\n",
    "terror[terror.country_txt == 'India']['attacktype1_txt'].count()"
   ]
  },
  {
   "cell_type": "code",
   "execution_count": 5,
   "metadata": {},
   "outputs": [
    {
     "data": {
      "text/plain": [
       "8362"
      ]
     },
     "execution_count": 5,
     "metadata": {},
     "output_type": "execute_result"
    }
   ],
   "source": [
    "# 2.How many attacks happened in India and upto 3 people were killed? \n",
    "terror[(terror.country_txt == 'India') & (terror.nkill <= 3)]['attacktype1_txt'].count()"
   ]
  },
  {
   "cell_type": "code",
   "execution_count": 19,
   "metadata": {},
   "outputs": [
    {
     "data": {
      "text/html": [
       "<div>\n",
       "<style>\n",
       "    .dataframe thead tr:only-child th {\n",
       "        text-align: right;\n",
       "    }\n",
       "\n",
       "    .dataframe thead th {\n",
       "        text-align: left;\n",
       "    }\n",
       "\n",
       "    .dataframe tbody tr th {\n",
       "        vertical-align: top;\n",
       "    }\n",
       "</style>\n",
       "<table border=\"1\" class=\"dataframe\">\n",
       "  <thead>\n",
       "    <tr style=\"text-align: right;\">\n",
       "      <th></th>\n",
       "      <th>city</th>\n",
       "      <th>summary</th>\n",
       "    </tr>\n",
       "  </thead>\n",
       "  <tbody>\n",
       "    <tr>\n",
       "      <th>67453</th>\n",
       "      <td>New Delhi</td>\n",
       "      <td>01/09/1998: At least 44 people were injured, t...</td>\n",
       "    </tr>\n",
       "    <tr>\n",
       "      <th>67555</th>\n",
       "      <td>Coimbatore</td>\n",
       "      <td>02/14/1998: Thirty-six people were killed and ...</td>\n",
       "    </tr>\n",
       "    <tr>\n",
       "      <th>67556</th>\n",
       "      <td>Coimbatore</td>\n",
       "      <td>02/14/1998: Thirty-six people were killed and ...</td>\n",
       "    </tr>\n",
       "    <tr>\n",
       "      <th>67557</th>\n",
       "      <td>Coimbatore</td>\n",
       "      <td>02/14/1998: Thirty-six people were killed and ...</td>\n",
       "    </tr>\n",
       "    <tr>\n",
       "      <th>67558</th>\n",
       "      <td>Coimbatore</td>\n",
       "      <td>02/14/1998: Thirty-six people were killed and ...</td>\n",
       "    </tr>\n",
       "  </tbody>\n",
       "</table>\n",
       "</div>"
      ],
      "text/plain": [
       "             city                                            summary\n",
       "67453   New Delhi  01/09/1998: At least 44 people were injured, t...\n",
       "67555  Coimbatore  02/14/1998: Thirty-six people were killed and ...\n",
       "67556  Coimbatore  02/14/1998: Thirty-six people were killed and ...\n",
       "67557  Coimbatore  02/14/1998: Thirty-six people were killed and ...\n",
       "67558  Coimbatore  02/14/1998: Thirty-six people were killed and ..."
      ]
     },
     "execution_count": 19,
     "metadata": {},
     "output_type": "execute_result"
    }
   ],
   "source": [
    "# 3.Extract the city and summary for attacks above\n",
    "terror[(terror.country_txt == 'India') & (terror.nkill <= 3)][['city','summary']].dropna(axis=0).head()"
   ]
  },
  {
   "cell_type": "code",
   "execution_count": 7,
   "metadata": {},
   "outputs": [
    {
     "data": {
      "text/html": [
       "<div>\n",
       "<style>\n",
       "    .dataframe thead tr:only-child th {\n",
       "        text-align: right;\n",
       "    }\n",
       "\n",
       "    .dataframe thead th {\n",
       "        text-align: left;\n",
       "    }\n",
       "\n",
       "    .dataframe tbody tr th {\n",
       "        vertical-align: top;\n",
       "    }\n",
       "</style>\n",
       "<table border=\"1\" class=\"dataframe\">\n",
       "  <thead>\n",
       "    <tr style=\"text-align: right;\">\n",
       "      <th></th>\n",
       "      <th>city</th>\n",
       "      <th>nkill</th>\n",
       "    </tr>\n",
       "  </thead>\n",
       "  <tbody>\n",
       "    <tr>\n",
       "      <th>81000</th>\n",
       "      <td>Mumbai</td>\n",
       "      <td>188.0</td>\n",
       "    </tr>\n",
       "    <tr>\n",
       "      <th>96598</th>\n",
       "      <td>Jhargam</td>\n",
       "      <td>115.0</td>\n",
       "    </tr>\n",
       "    <tr>\n",
       "      <th>54339</th>\n",
       "      <td>Bombay</td>\n",
       "      <td>115.0</td>\n",
       "    </tr>\n",
       "    <tr>\n",
       "      <th>95860</th>\n",
       "      <td>Dantewada district</td>\n",
       "      <td>82.0</td>\n",
       "    </tr>\n",
       "    <tr>\n",
       "      <th>56837</th>\n",
       "      <td>Banabari</td>\n",
       "      <td>70.0</td>\n",
       "    </tr>\n",
       "  </tbody>\n",
       "</table>\n",
       "</div>"
      ],
      "text/plain": [
       "                     city  nkill\n",
       "81000              Mumbai  188.0\n",
       "96598             Jhargam  115.0\n",
       "54339              Bombay  115.0\n",
       "95860  Dantewada district   82.0\n",
       "56837            Banabari   70.0"
      ]
     },
     "execution_count": 7,
     "metadata": {},
     "output_type": "execute_result"
    }
   ],
   "source": [
    "# 4.In a single terror incident in India, find out top 5 cities by number killed\n",
    "terror.query(\"(country_txt=='India')\")[[\"city\",\"nkill\"]].sort_values('nkill',ascending=False).head(5)\n"
   ]
  },
  {
   "cell_type": "code",
   "execution_count": 8,
   "metadata": {},
   "outputs": [
    {
     "data": {
      "text/html": [
       "<div>\n",
       "<style>\n",
       "    .dataframe thead tr:only-child th {\n",
       "        text-align: right;\n",
       "    }\n",
       "\n",
       "    .dataframe thead th {\n",
       "        text-align: left;\n",
       "    }\n",
       "\n",
       "    .dataframe tbody tr th {\n",
       "        vertical-align: top;\n",
       "    }\n",
       "</style>\n",
       "<table border=\"1\" class=\"dataframe\">\n",
       "  <thead>\n",
       "    <tr style=\"text-align: right;\">\n",
       "      <th></th>\n",
       "      <th>city</th>\n",
       "      <th>nkill</th>\n",
       "      <th>nwound</th>\n",
       "      <th>nkill_nwound</th>\n",
       "    </tr>\n",
       "  </thead>\n",
       "  <tbody>\n",
       "    <tr>\n",
       "      <th>81000</th>\n",
       "      <td>Mumbai</td>\n",
       "      <td>188.0</td>\n",
       "      <td>817.0</td>\n",
       "      <td>1005.0</td>\n",
       "    </tr>\n",
       "    <tr>\n",
       "      <th>89128</th>\n",
       "      <td>Dispur</td>\n",
       "      <td>37.0</td>\n",
       "      <td>235.0</td>\n",
       "      <td>272.0</td>\n",
       "    </tr>\n",
       "    <tr>\n",
       "      <th>96598</th>\n",
       "      <td>Jhargam</td>\n",
       "      <td>115.0</td>\n",
       "      <td>140.0</td>\n",
       "      <td>255.0</td>\n",
       "    </tr>\n",
       "    <tr>\n",
       "      <th>30378</th>\n",
       "      <td>Chennai</td>\n",
       "      <td>32.0</td>\n",
       "      <td>200.0</td>\n",
       "      <td>232.0</td>\n",
       "    </tr>\n",
       "    <tr>\n",
       "      <th>79045</th>\n",
       "      <td>New Delhi</td>\n",
       "      <td>55.0</td>\n",
       "      <td>155.0</td>\n",
       "      <td>210.0</td>\n",
       "    </tr>\n",
       "  </tbody>\n",
       "</table>\n",
       "</div>"
      ],
      "text/plain": [
       "            city  nkill  nwound  nkill_nwound\n",
       "81000     Mumbai  188.0   817.0        1005.0\n",
       "89128     Dispur   37.0   235.0         272.0\n",
       "96598    Jhargam  115.0   140.0         255.0\n",
       "30378    Chennai   32.0   200.0         232.0\n",
       "79045  New Delhi   55.0   155.0         210.0"
      ]
     },
     "execution_count": 8,
     "metadata": {},
     "output_type": "execute_result"
    }
   ],
   "source": [
    "# 5.In a single terror incident in India, find out top 5 cities by number killed and wounded \n",
    "t5 = terror.query(\"(country_txt=='India')\")[[\"city\",\"nkill\",\"nwound\"]].sort_values('nkill',ascending=False)\n",
    "t5['nkill_nwound'] = t5.nkill+t5.nwound\n",
    "t5.sort_values('nkill_nwound',ascending=False).head(5)"
   ]
  },
  {
   "cell_type": "code",
   "execution_count": 9,
   "metadata": {},
   "outputs": [
    {
     "data": {
      "text/plain": [
       "4260"
      ]
     },
     "execution_count": 9,
     "metadata": {},
     "output_type": "execute_result"
    }
   ],
   "source": [
    "# 6.How many attacks were successful that were suicide attacks?\n",
    "terror.query(\"(success==1 and suicide==1)\").count().iyear"
   ]
  },
  {
   "cell_type": "code",
   "execution_count": 10,
   "metadata": {},
   "outputs": [
    {
     "data": {
      "text/plain": [
       "13874"
      ]
     },
     "execution_count": 10,
     "metadata": {},
     "output_type": "execute_result"
    }
   ],
   "source": [
    "# 7.label all the incidents where the number killed was more than 5 as severe. \n",
    "terror['label'] = np.where(terror['nkill'] > 5, 'severe', 'notsevere')\n",
    "terror.query(\"(label=='severe')\").count().iyear"
   ]
  },
  {
   "cell_type": "code",
   "execution_count": 12,
   "metadata": {},
   "outputs": [
    {
     "name": "stdout",
     "output_type": "stream",
     "text": [
      "Yes,Exist\n",
      "No,Not Exits\n"
     ]
    }
   ],
   "source": [
    "# 8.write a function to label an incident that was both successful and suicidal\n",
    "def check(event) :\n",
    "    if ((terror.suicide[terror.eventid == event] == 1).tolist()[0] and \n",
    "        (terror.success[terror.eventid == event] == 1).tolist()[0]) :\n",
    "        print('Yes,Exist')\n",
    "    else :\n",
    "        print('No,Not Exits')\n",
    "        \n",
    "check(200707070001)\n",
    "check(201410290055)"
   ]
  },
  {
   "cell_type": "code",
   "execution_count": 14,
   "metadata": {},
   "outputs": [
    {
     "data": {
      "text/html": [
       "<div>\n",
       "<style>\n",
       "    .dataframe thead tr:only-child th {\n",
       "        text-align: right;\n",
       "    }\n",
       "\n",
       "    .dataframe thead th {\n",
       "        text-align: left;\n",
       "    }\n",
       "\n",
       "    .dataframe tbody tr th {\n",
       "        vertical-align: top;\n",
       "    }\n",
       "</style>\n",
       "<table border=\"1\" class=\"dataframe\">\n",
       "  <thead>\n",
       "    <tr style=\"text-align: right;\">\n",
       "      <th></th>\n",
       "      <th>eventid</th>\n",
       "      <th>country_txt</th>\n",
       "      <th>Area</th>\n",
       "    </tr>\n",
       "  </thead>\n",
       "  <tbody>\n",
       "    <tr>\n",
       "      <th>0</th>\n",
       "      <td>197000000001</td>\n",
       "      <td>Dominican Republic</td>\n",
       "      <td>Second level</td>\n",
       "    </tr>\n",
       "    <tr>\n",
       "      <th>1</th>\n",
       "      <td>197000000002</td>\n",
       "      <td>Mexico</td>\n",
       "      <td>Second level</td>\n",
       "    </tr>\n",
       "    <tr>\n",
       "      <th>2</th>\n",
       "      <td>197001000001</td>\n",
       "      <td>Philippines</td>\n",
       "      <td>Second level</td>\n",
       "    </tr>\n",
       "    <tr>\n",
       "      <th>3</th>\n",
       "      <td>197001000002</td>\n",
       "      <td>Greece</td>\n",
       "      <td>Second level</td>\n",
       "    </tr>\n",
       "    <tr>\n",
       "      <th>4</th>\n",
       "      <td>197001000003</td>\n",
       "      <td>Japan</td>\n",
       "      <td>Second level</td>\n",
       "    </tr>\n",
       "  </tbody>\n",
       "</table>\n",
       "</div>"
      ],
      "text/plain": [
       "        eventid         country_txt          Area\n",
       "0  197000000001  Dominican Republic  Second level\n",
       "1  197000000002              Mexico  Second level\n",
       "2  197001000001         Philippines  Second level\n",
       "3  197001000002              Greece  Second level\n",
       "4  197001000003               Japan  Second level"
      ]
     },
     "execution_count": 14,
     "metadata": {},
     "output_type": "execute_result"
    }
   ],
   "source": [
    "# 9.Create a new category representing if the incident occured in Afghanistan, Pakistan or India \n",
    "#as one level of the category and all the other countries as another level\n",
    "terror['Area']= \"\"\n",
    "i=0 \n",
    "j=0\n",
    "while i<156772:\n",
    "    if (terror.iat[i,8] == 'Afghanistan' or terror.iat[i,8]=='Pakistan'or terror.iat[i,8]=='India' ):\n",
    "        terror.iat[i,138] = \"First level\"\n",
    "    else:\n",
    "        terror.iat[i,138] = \"Second level\"\n",
    "    i= i + 1\n",
    "terror[['eventid','country_txt','Area']].head()"
   ]
  },
  {
   "cell_type": "code",
   "execution_count": 17,
   "metadata": {},
   "outputs": [
    {
     "data": {
      "text/plain": [
       "32398"
      ]
     },
     "execution_count": 17,
     "metadata": {},
     "output_type": "execute_result"
    }
   ],
   "source": [
    "# 10.How many incidents happened in Af-Pak-India vs ROW?\n",
    "t10=terror.query(\"(country_txt=='India' or country_txt=='Afghanistan' or country_txt=='Pakistan')\").count().iyear\n",
    "t10"
   ]
  },
  {
   "cell_type": "code",
   "execution_count": 18,
   "metadata": {},
   "outputs": [
    {
     "data": {
      "text/html": [
       "<div>\n",
       "<style>\n",
       "    .dataframe thead tr:only-child th {\n",
       "        text-align: right;\n",
       "    }\n",
       "\n",
       "    .dataframe thead th {\n",
       "        text-align: left;\n",
       "    }\n",
       "\n",
       "    .dataframe tbody tr th {\n",
       "        vertical-align: top;\n",
       "    }\n",
       "</style>\n",
       "<table border=\"1\" class=\"dataframe\">\n",
       "  <thead>\n",
       "    <tr style=\"text-align: right;\">\n",
       "      <th></th>\n",
       "      <th>suicide</th>\n",
       "      <th>nkill</th>\n",
       "    </tr>\n",
       "    <tr>\n",
       "      <th>Area</th>\n",
       "      <th></th>\n",
       "      <th></th>\n",
       "    </tr>\n",
       "  </thead>\n",
       "  <tbody>\n",
       "    <tr>\n",
       "      <th>First level</th>\n",
       "      <td>1462</td>\n",
       "      <td>8.127404</td>\n",
       "    </tr>\n",
       "    <tr>\n",
       "      <th>Second level</th>\n",
       "      <td>3309</td>\n",
       "      <td>11.511403</td>\n",
       "    </tr>\n",
       "  </tbody>\n",
       "</table>\n",
       "</div>"
      ],
      "text/plain": [
       "              suicide      nkill\n",
       "Area                            \n",
       "First level      1462   8.127404\n",
       "Second level     3309  11.511403"
      ]
     },
     "execution_count": 18,
     "metadata": {},
     "output_type": "execute_result"
    }
   ],
   "source": [
    "# 11.List the number of suicides attacks and average kills by Af-Pak-India vs ROW. Rename columns in the output as \n",
    "# Average_Kills and Number_Incidents.\n",
    "terror[terror.suicide==1].groupby('Area').agg({'suicide':'count','nkill':'mean'})"
   ]
  }
 ],
 "metadata": {
  "kernelspec": {
   "display_name": "Python 3",
   "language": "python",
   "name": "python3"
  },
  "language_info": {
   "codemirror_mode": {
    "name": "ipython",
    "version": 3
   },
   "file_extension": ".py",
   "mimetype": "text/x-python",
   "name": "python",
   "nbconvert_exporter": "python",
   "pygments_lexer": "ipython3",
   "version": "3.6.3"
  }
 },
 "nbformat": 4,
 "nbformat_minor": 2
}
