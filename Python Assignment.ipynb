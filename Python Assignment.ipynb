{
 "cells": [
  {
   "cell_type": "markdown",
   "metadata": {},
   "source": [
    "# Python Assignment\n",
    "- Submitted by S.Vijay, 3B"
   ]
  },
  {
   "cell_type": "code",
   "execution_count": 2,
   "metadata": {},
   "outputs": [
    {
     "name": "stdout",
     "output_type": "stream",
     "text": [
      "Enter a number to find the square root : 2\n",
      "1.41\n"
     ]
    }
   ],
   "source": [
    "# Program to find a square root of a number\n",
    "\n",
    "num = int(input(\"Enter a number to find the square root : \" ))\n",
    "sqroot = round(num ** 0.5,2)\n",
    "print(sqroot)"
   ]
  },
  {
   "cell_type": "code",
   "execution_count": 19,
   "metadata": {},
   "outputs": [
    {
     "name": "stdout",
     "output_type": "stream",
     "text": [
      "Enter the base of triangle : 5\n",
      "Enter the height of triangle : 10\n",
      "25.0\n"
     ]
    }
   ],
   "source": [
    "# Program to find area of triangle\n",
    "\n",
    "base = float(input(\"Enter the base of triangle : \" ))\n",
    "height = float(input(\"Enter the height of triangle : \" ))\n",
    "area = 0.5*base*height\n",
    "print(area)"
   ]
  },
  {
   "cell_type": "code",
   "execution_count": 1,
   "metadata": {},
   "outputs": [
    {
     "name": "stdout",
     "output_type": "stream",
     "text": [
      "Enter 1st Number : 12\n",
      "Enter 2nd Number : 7\n",
      "1st value :  7\n",
      "2nd value :  12\n"
     ]
    }
   ],
   "source": [
    "# Program to swap two numbers without using temp variabe\n",
    "a = int(input(\"Enter 1st Number : \" ))\n",
    "b = int(input(\"Enter 2nd Number : \" ))\n",
    "a = a+b\n",
    "b = a-b\n",
    "a = a-b\n",
    "print(\"1st value : \",a)\n",
    "print(\"2nd value : \",b)"
   ]
  },
  {
   "cell_type": "code",
   "execution_count": 25,
   "metadata": {},
   "outputs": [
    {
     "name": "stdout",
     "output_type": "stream",
     "text": [
      "Enter the year to check for leap year : 1999\n",
      "1999 is not a leap year\n"
     ]
    }
   ],
   "source": [
    "# Program to find a given year is leap year or not\n",
    "\n",
    "year = int(input(\"Enter the year to check for leap year : \" ))\n",
    "if year % 4 == 0:\n",
    "    print(year,\"is a leap year\")\n",
    "else:\n",
    "    print(year,\"is not a leap year\")"
   ]
  },
  {
   "cell_type": "code",
   "execution_count": 1,
   "metadata": {},
   "outputs": [
    {
     "name": "stdout",
     "output_type": "stream",
     "text": [
      "Enter a number:7\n",
      "0\n",
      "1\n",
      "1\n",
      "2\n",
      "3\n",
      "5\n",
      "8\n"
     ]
    }
   ],
   "source": [
    "# Program to display the Fibonacci sequence up to n-th term where n is provided by the user\n",
    "def fib(n):\n",
    "    if n ==0:\n",
    "        return 0\n",
    "    elif n == 1:\n",
    "        return 1\n",
    "    else:\n",
    "        return (fib(n-2)+fib(n-1))\n",
    "    \n",
    "n=int(input(\"Enter a number:\"))\n",
    "for i in range(0,n):\n",
    "    print(fib(i))\n",
    " "
   ]
  },
  {
   "cell_type": "code",
   "execution_count": 2,
   "metadata": {},
   "outputs": [
    {
     "name": "stdout",
     "output_type": "stream",
     "text": [
      "Enter the number : 164\n",
      "The given number is not a amstrong number\n"
     ]
    }
   ],
   "source": [
    "# Program to find amstrong number\n",
    "\n",
    "n = int(input(\"Enter the number : \" ))\n",
    "ln = list(map(int,str(n)))\n",
    "l = len(ln)\n",
    "ams = list(map(lambda x: x**l, ln))\n",
    "if sum(ams) == n:\n",
    "    print(\"The given number is amstrong number\")\n",
    "else:\n",
    "    print(\"The given number is not a amstrong number\")"
   ]
  },
  {
   "cell_type": "code",
   "execution_count": 10,
   "metadata": {},
   "outputs": [
    {
     "name": "stdout",
     "output_type": "stream",
     "text": [
      "Enter the number : 8\n"
     ]
    },
    {
     "data": {
      "text/plain": [
       "[2, 4, 8, 16, 32, 64, 128, 256]"
      ]
     },
     "execution_count": 10,
     "metadata": {},
     "output_type": "execute_result"
    }
   ],
   "source": [
    "# Python Program to display the powers of 2 using anonymous function\n",
    "\n",
    "power = lambda i : [2**i for i in list(range(1,i+1))]\n",
    "i = int(input(\"Enter the number : \" ))\n",
    "power(i)"
   ]
  }
 ],
 "metadata": {
  "kernelspec": {
   "display_name": "Python 3",
   "language": "python",
   "name": "python3"
  },
  "language_info": {
   "codemirror_mode": {
    "name": "ipython",
    "version": 3
   },
   "file_extension": ".py",
   "mimetype": "text/x-python",
   "name": "python",
   "nbconvert_exporter": "python",
   "pygments_lexer": "ipython3",
   "version": "3.6.3"
  }
 },
 "nbformat": 4,
 "nbformat_minor": 2
}
